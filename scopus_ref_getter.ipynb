{
 "cells": [
  {
   "cell_type": "code",
   "execution_count": 24,
   "metadata": {},
   "outputs": [
    {
     "name": "stderr",
     "output_type": "stream",
     "text": [
      "100%|██████████| 14/14 [00:13<00:00,  1.01s/it]\n"
     ]
    },
    {
     "name": "stdout",
     "output_type": "stream",
     "text": [
      "# : 16036 Eid :  2-s2.0-84906930320 Done.\n",
      "Downloading results for query \"REF(2-s2.0-84906930272)\":\n"
     ]
    },
    {
     "name": "stderr",
     "output_type": "stream",
     "text": [
      "100%|██████████| 1/1 [00:00<?, ?it/s]"
     ]
    },
    {
     "name": "stdout",
     "output_type": "stream",
     "text": [
      "# : 16037 Eid :  2-s2.0-84906930272 Done.\n"
     ]
    },
    {
     "name": "stderr",
     "output_type": "stream",
     "text": [
      "\n"
     ]
    },
    {
     "name": "stdout",
     "output_type": "stream",
     "text": [
      "Downloading results for query \"REF(2-s2.0-84906930162)\":\n"
     ]
    },
    {
     "name": "stderr",
     "output_type": "stream",
     "text": [
      "100%|██████████| 2/2 [00:00<00:00,  1.40it/s]\n"
     ]
    },
    {
     "name": "stdout",
     "output_type": "stream",
     "text": [
      "# : 16038 Eid :  2-s2.0-84906930162 Done.\n",
      "Downloading results for query \"REF(2-s2.0-84906929994)\":\n"
     ]
    },
    {
     "name": "stderr",
     "output_type": "stream",
     "text": [
      "100%|██████████| 1/1 [00:00<?, ?it/s]"
     ]
    },
    {
     "name": "stdout",
     "output_type": "stream",
     "text": [
      "# : 16039 Eid :  2-s2.0-84906929994 Done.\n"
     ]
    },
    {
     "name": "stderr",
     "output_type": "stream",
     "text": [
      "\n"
     ]
    },
    {
     "name": "stdout",
     "output_type": "stream",
     "text": [
      "Downloading results for query \"REF(2-s2.0-84906929968)\":\n"
     ]
    },
    {
     "name": "stderr",
     "output_type": "stream",
     "text": [
      "100%|██████████| 8/8 [00:06<00:00,  1.02it/s]\n"
     ]
    },
    {
     "name": "stdout",
     "output_type": "stream",
     "text": [
      "# : 16040 Eid :  2-s2.0-84906929968 Done.\n",
      "Downloading results for query \"REF(2-s2.0-84906929912)\":\n"
     ]
    },
    {
     "name": "stderr",
     "output_type": "stream",
     "text": [
      "100%|██████████| 1/1 [00:00<?, ?it/s]"
     ]
    },
    {
     "name": "stdout",
     "output_type": "stream",
     "text": [
      "# : 16041 Eid :  2-s2.0-84906929912 Done.\n"
     ]
    },
    {
     "name": "stderr",
     "output_type": "stream",
     "text": [
      "\n"
     ]
    },
    {
     "name": "stdout",
     "output_type": "stream",
     "text": [
      "Downloading results for query \"REF(2-s2.0-84906929858)\":\n"
     ]
    },
    {
     "name": "stderr",
     "output_type": "stream",
     "text": [
      "100%|██████████| 1/1 [00:00<?, ?it/s]"
     ]
    },
    {
     "name": "stdout",
     "output_type": "stream",
     "text": [
      "# : 16042 Eid :  2-s2.0-84906929858 Done.\n"
     ]
    },
    {
     "name": "stderr",
     "output_type": "stream",
     "text": [
      "\n"
     ]
    },
    {
     "name": "stdout",
     "output_type": "stream",
     "text": [
      "Downloading results for query \"REF(2-s2.0-84906929853)\":\n"
     ]
    },
    {
     "name": "stderr",
     "output_type": "stream",
     "text": [
      "100%|██████████| 2/2 [00:00<00:00,  1.38it/s]\n"
     ]
    },
    {
     "name": "stdout",
     "output_type": "stream",
     "text": [
      "# : 16043 Eid :  2-s2.0-84906929853 Done.\n",
      "Downloading results for query \"REF(2-s2.0-84906929839)\":\n"
     ]
    },
    {
     "name": "stderr",
     "output_type": "stream",
     "text": [
      " 33%|███▎      | 1/3 [00:00<?, ?it/s]"
     ]
    }
   ],
   "source": [
    "import pandas as pd\n",
    "import numpy as np\n",
    "from pybliometrics.scopus import ScopusSearch\n",
    "\n",
    "\n",
    "\n",
    "pd.set_option('display.max_columns', None)\n",
    "data = pd.read_csv(\"./data/ai_research_papers.csv\")\n",
    "origin_eids = data['eid']\n",
    "origin_eids_set = set(origin_eids)\n",
    "\n",
    "columns = ['eid', 'eid_citedby_ai', 'citedby_count_ai', 'eid_citedby_etc', 'citedby_count_etc']\n",
    "df = pd.DataFrame(columns=columns)\n",
    "\n",
    "i = 0\n",
    "\n",
    "for row in data.iterrows() :\n",
    "    i+=1\n",
    "    e = row[1][0]\n",
    "    try :\n",
    "        if row[1]['citedby_count'] == 0 :\n",
    "            continue\n",
    "        q = \"REF(\" + e + \")\"\n",
    "        s = ScopusSearch(q, verbose=True)\n",
    "        ref_by = set(s.get_eids())\n",
    "        in_origin = list(origin_eids_set.intersection(ref_by))\n",
    "        in_origin_n = len(in_origin)\n",
    "        in_origin = ';'.join(in_origin)\n",
    "        not_origin = ref_by - origin_eids_set\n",
    "        not_origin = list(not_origin)\n",
    "        not_origin_n = len(not_origin)\n",
    "        not_origin = ';'.join(not_origin)\n",
    "        new_row = [e, in_origin, in_origin_n, not_origin, not_origin_n]\n",
    "        df = df.append(pd.Series(new_row, index=df.columns), ignore_index=True)\n",
    "        print(\"# :\", i, \"Eid : \", e, \"Done.\")\n",
    "    except :\n",
    "        print(e, \"Failed\")\n",
    "        break\n",
    "\n",
    "df.to_csv(\"./data/ai_papers_citations.csv\")\n"
   ]
  },
  {
   "cell_type": "code",
   "execution_count": null,
   "metadata": {},
   "outputs": [],
   "source": []
  }
 ],
 "metadata": {
  "kernelspec": {
   "display_name": "Python 3 (ipykernel)",
   "language": "python",
   "name": "python3"
  },
  "language_info": {
   "codemirror_mode": {
    "name": "ipython",
    "version": 3
   },
   "file_extension": ".py",
   "mimetype": "text/x-python",
   "name": "python",
   "nbconvert_exporter": "python",
   "pygments_lexer": "ipython3",
   "version": "3.11.5"
  }
 },
 "nbformat": 4,
 "nbformat_minor": 2
}
