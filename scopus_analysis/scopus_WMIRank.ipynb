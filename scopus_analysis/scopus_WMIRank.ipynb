{
 "cells": [
  {
   "cell_type": "code",
   "execution_count": 43,
   "metadata": {},
   "outputs": [
    {
     "name": "stderr",
     "output_type": "stream",
     "text": [
      "/home/pkmon1d/miniconda3/lib/python3.11/site-packages/IPython/core/interactiveshell.py:3553: DtypeWarning: Columns (2,19,21,23,24,25) have mixed types.Specify dtype option on import or set low_memory=False.\n",
      "  exec(code_obj, self.user_global_ns, self.user_ns)\n"
     ]
    }
   ],
   "source": [
    "import pandas as pd\n",
    "import copy\n",
    "\n",
    "pd.set_option('display.max_columns', None)\n",
    "data = pd.read_csv(\"../data/ai_research_papers.csv\")\n",
    "data.at[222653, 'author_names'] = 'Dudík, Miroslav;Haghtalab, Nika;Luo, Haipeng;Schapire, Robert E.;Syrgkanis, Vasilis;Vaughan, Jennifer Wortman'\n",
    "data_exploded = data.assign(author_afids=data['author_afids'].str.split(';'), author_ids=data['author_ids'].str.split(';'), author_names = data['author_names'].str.split(';'))\n",
    "data_exploded = data_exploded.explode(['author_afids', 'author_names', 'author_ids'])\n",
    "data_exploded['author_rank'] = data_exploded.groupby('eid').cumcount() + 1\n",
    "data_exploded = data_exploded[['eid', 'year', 'origin_ref','author_count', 'author_names', 'author_ids', 'author_afids', 'author_rank', 'citedby_count']]\n",
    "\n",
    "aff_ids_1 = pd.read_csv(\"../data/ai_papers_affiliations.csv\")\n",
    "aff_ids_2 = pd.read_csv(\"../data/ai_papers_affiliations_append.csv\")\n",
    "aff_ids_2 = aff_ids_2[['afid', 'affiliation_name', 'org_type', 'city', 'state', 'country']].drop_duplicates()\n",
    "aff_ids = pd.concat([aff_ids_1, aff_ids_2])\n",
    "aff_ids = aff_ids.loc[aff_ids['country'].notna()].drop_duplicates(subset = 'afid')\n",
    "\n",
    "data_fin = pd.merge(data_exploded, aff_ids, how = 'inner', left_on = 'author_afids', right_on = 'afid')\n",
    "data_fin = data_fin.sort_values([\"year\",\"eid\", \"author_rank\"])\n",
    "\n",
    "venue_mean = data.groupby(\"origin_ref\")[\"citedby_count\"].mean().reset_index(\"origin_ref\").sort_values(\"citedby_count\", ascending= False)\n",
    "\n",
    "data_dict = {}\n",
    "for ind, row in data_fin.iterrows() :\n",
    "    if row['eid'] not in data_dict :\n",
    "        data_dict[row['eid']] = {}\n",
    "        data_dict[row['eid']]['year'] = row['year'] \n",
    "        data_dict[row['eid']]['origin_ref'] = row['origin_ref'] \n",
    "        data_dict[row['eid']]['author_count'] = row['author_count'] \n",
    "        data_dict[row['eid']]['citedby_count'] = row['citedby_count'] \n",
    "        data_dict[row['eid']]['venue_mean_citation'] = venue_mean.loc[venue_mean['origin_ref']==row['origin_ref']]['citedby_count'].iloc[0]\n",
    "        data_dict[row['eid']]['aff_country'] = []\n",
    "    data_dict[row['eid']]['aff_country'].append(row['country'])\n"
   ]
  },
  {
   "cell_type": "markdown",
   "metadata": {},
   "source": [
    "## 전체적으로, 각각에 대해서 Normalize 또는 Standardize할 필요 있어보임."
   ]
  },
  {
   "cell_type": "markdown",
   "metadata": {},
   "source": [
    "##### CACWI (Co-Author Citations based Mutual Influence)"
   ]
  },
  {
   "cell_type": "code",
   "execution_count": 64,
   "metadata": {},
   "outputs": [],
   "source": [
    "result_dict_cite = {}\n",
    "for eid in data_dict :\n",
    "    cur_eid = data_dict[eid]\n",
    "    cur_affs = cur_eid['aff_country']\n",
    "    cur_citation = cur_eid['citedby_count']\n",
    "    processed = []\n",
    "    for i in range(len(cur_affs)) :\n",
    "        t_cur = cur_affs[:]\n",
    "        t_cur = [item for item in t_cur if item != cur_affs[i]]\n",
    "        t_cur = set(t_cur)\n",
    "\n",
    "        if cur_affs[i] not in result_dict_cite :\n",
    "            result_dict_cite[cur_affs[i]] = {}\n",
    "            result_dict_cite[cur_affs[i]][\"self\"] = 0\n",
    "\n",
    "        if cur_affs[i] not in processed :\n",
    "            result_dict_cite[cur_affs[i]][\"self\"] += cur_citation\n",
    "\n",
    "            for j in t_cur :\n",
    "                if j not in result_dict_cite[cur_affs[i]] :\n",
    "                    result_dict_cite[cur_affs[i]][j] = 0\n",
    "                result_dict_cite[cur_affs[i]][j] += cur_citation\n",
    "            processed.append(cur_affs[i])\n",
    "\n",
    "cacwi = {}\n",
    "max_cacwi = 0\n",
    "min_cacwi = 1\n",
    "for k in result_dict_cite:\n",
    "    cacwi[k] = {}\n",
    "    for ik in result_dict_cite[k]:\n",
    "        if ik != \"self\" and result_dict_cite[k][\"self\"] == 0 :\n",
    "            cacwi[k][ik] = .0001\n",
    "        elif ik != \"self\":\n",
    "            cacwi[k][ik] = result_dict_cite[k][ik] / result_dict_cite[k][\"self\"]\n",
    "            \n",
    "            if cacwi[k][ik] != 1 and cacwi[k][ik] > max_cacwi :\n",
    "                max_cacwi = cacwi[k][ik]\n",
    "            if cacwi[k][ik] != 0 and cacwi[k][ik] < min_cacwi :\n",
    "                min_cacwi = cacwi[k][ik]\n",
    "\n"
   ]
  },
  {
   "cell_type": "code",
   "execution_count": 66,
   "metadata": {},
   "outputs": [
    {
     "data": {
      "text/plain": [
       "1.29534702281974e-07"
      ]
     },
     "execution_count": 66,
     "metadata": {},
     "output_type": "execute_result"
    }
   ],
   "source": [
    "min_cacwi"
   ]
  },
  {
   "cell_type": "markdown",
   "metadata": {},
   "source": [
    "##### CAOWI (Co-Author Order based Mutual Influence)"
   ]
  },
  {
   "cell_type": "code",
   "execution_count": 61,
   "metadata": {},
   "outputs": [],
   "source": [
    "result_dict_auth_rank = {}\n",
    "for eid in data_dict :\n",
    "    cur_eid = data_dict[eid]\n",
    "    cur_affs = cur_eid['aff_country']\n",
    "    cur_score = {}\n",
    "    for i in range(len(cur_affs)) :\n",
    "        if cur_affs[i] not in cur_score :\n",
    "            cur_score[cur_affs[i]] = 0\n",
    "        if i == 0:\n",
    "            cur_score[cur_affs[i]] += 1\n",
    "\n",
    "    for af in cur_score :\n",
    "        if af not in result_dict_auth_rank :\n",
    "            result_dict_auth_rank[af] = {}\n",
    "            result_dict_auth_rank[af][\"total\"] = 0\n",
    "            result_dict_auth_rank[af][\"self\"] = 0\n",
    "        \n",
    "        result_dict_auth_rank[af][\"total\"] += 1\n",
    "        result_dict_auth_rank[af][\"self\"] += cur_score[af]\n",
    "        for inner_af in cur_score :\n",
    "            if af != inner_af :\n",
    "                if inner_af not in result_dict_auth_rank[af] :\n",
    "                    result_dict_auth_rank[af][inner_af] = 0\n",
    "                result_dict_auth_rank[af][inner_af] += cur_score[inner_af]\n",
    "\n",
    "caowi = {}\n",
    "max_caowi = 0\n",
    "min_caowi = 1\n",
    "for k in result_dict_auth_rank:\n",
    "    caowi[k] = {}\n",
    "    t_total = result_dict_auth_rank[k][\"total\"]\n",
    "    t_self = result_dict_auth_rank[k][\"self\"]\n",
    "    for ik in result_dict_auth_rank[k] :\n",
    "        if ik != \"total\" and ik != \"self\":\n",
    "            caowi[k][ik] = (result_dict_auth_rank[k][ik] + t_self) / (t_total + t_self)\n",
    "\n",
    "            if caowi[k][ik] > max_caowi :\n",
    "                max_caowi = caowi[k][ik]\n",
    "            if caowi[k][ik] < min_caowi :\n",
    "                min_caowi = caowi[k][ik]\n",
    "    "
   ]
  },
  {
   "cell_type": "markdown",
   "metadata": {},
   "source": [
    "##### CAVWI (Co-Author Venue’s Citations Based Mutual Influence)"
   ]
  },
  {
   "cell_type": "code",
   "execution_count": 47,
   "metadata": {},
   "outputs": [],
   "source": [
    "result_dict_venue = {}\n",
    "for eid in data_dict :\n",
    "    cur_eid = data_dict[eid]\n",
    "    cur_affs = cur_eid['aff_country']\n",
    "    cur_score = {}\n",
    "    for i in range(len(cur_affs)) :\n",
    "        if cur_affs[i] not in cur_score :\n",
    "            cur_score[cur_affs[i]] = cur_eid['venue_mean_citation']\n",
    "\n",
    "    for af in cur_score :\n",
    "        if af not in result_dict_venue :\n",
    "            result_dict_venue[af] = {}\n",
    "            result_dict_venue[af][\"self\"] = 0\n",
    "        \n",
    "        result_dict_venue[af][\"self\"] += cur_score[af]\n",
    "        for inner_af in cur_score :\n",
    "            if af != inner_af :\n",
    "                if inner_af not in result_dict_venue[af] :\n",
    "                    result_dict_venue[af][inner_af] = 0\n",
    "                result_dict_venue[af][inner_af] += cur_score[inner_af]\n",
    "\n",
    "\n",
    "cavwi = {}\n",
    "for k in result_dict_venue:\n",
    "    cavwi[k] = {}\n",
    "    for ik in result_dict_venue[k]:\n",
    "        if ik != \"self\" and result_dict_venue[k][\"self\"] == 0 :\n",
    "            cavwi[k][ik] = 1\n",
    "        elif ik != \"self\":\n",
    "            cavwi[k][ik] = result_dict_venue[k][ik] / result_dict_venue[k][\"self\"]\n"
   ]
  },
  {
   "cell_type": "code",
   "execution_count": 52,
   "metadata": {},
   "outputs": [
    {
     "name": "stdout",
     "output_type": "stream",
     "text": [
      "0.2885680737703109\n",
      "0.45166993167375413\n",
      "0.18342109867625858\n"
     ]
    }
   ],
   "source": [
    "print(cacwi['France']['United States'])\n",
    "print(caowi['France']['United States'])\n",
    "print(cavwi['France']['United States'])\n"
   ]
  },
  {
   "cell_type": "code",
   "execution_count": 53,
   "metadata": {},
   "outputs": [
    {
     "name": "stdout",
     "output_type": "stream",
     "text": [
      "0.01693601464985669\n",
      "0.4556740587748271\n",
      "0.016451720384888464\n"
     ]
    }
   ],
   "source": [
    "\n",
    "print(cacwi['United States']['France'])\n",
    "print(caowi['United States']['France'])\n",
    "print(cavwi['United States']['France'])"
   ]
  },
  {
   "cell_type": "markdown",
   "metadata": {},
   "source": [
    "##### AOWI (author order weight based mutual influence)"
   ]
  },
  {
   "cell_type": "code",
   "execution_count": 69,
   "metadata": {},
   "outputs": [],
   "source": [
    "result_dict_auth_rank = {}\n",
    "for eid in data_dict :\n",
    "    cur_eid = data_dict[eid]\n",
    "    cur_affs = cur_eid['aff_country']\n",
    "    cur_score = {}\n",
    "    for i in range(len(cur_affs)) :\n",
    "        if cur_affs[i] not in cur_score :\n",
    "            cur_score[cur_affs[i]] = 0\n",
    "        cur_score[cur_affs[i]] += 1/(i+1)\n",
    "\n",
    "    for af in cur_score :\n",
    "        if af not in result_dict_auth_rank :\n",
    "            result_dict_auth_rank[af] = {}\n",
    "            result_dict_auth_rank[af][\"self\"] = 0\n",
    "        \n",
    "        result_dict_auth_rank[af][\"self\"] += cur_score[af]\n",
    "        for inner_af in cur_score :\n",
    "            if af != inner_af :\n",
    "                if inner_af not in result_dict_auth_rank[af] :\n",
    "                    result_dict_auth_rank[af][inner_af] = 0\n",
    "                result_dict_auth_rank[af][inner_af] += cur_score[inner_af]\n",
    "                result_dict_auth_rank[af][inner_af] += cur_score[af]\n",
    "    \n",
    "aowi = {}\n",
    "for k in result_dict_auth_rank:\n",
    "    aowi[k] = {}\n",
    "    for ik in result_dict_auth_rank[k]:\n",
    "        if ik != \"self\" and result_dict_auth_rank[k][\"self\"] == 0 :\n",
    "            aowi[k][ik] = 0.0000001\n",
    "        elif ik != \"self\":\n",
    "            aowi[k][ik] = result_dict_auth_rank[k][ik] / result_dict_auth_rank[k][\"self\"]\n",
    "    "
   ]
  },
  {
   "cell_type": "code",
   "execution_count": 73,
   "metadata": {},
   "outputs": [
    {
     "name": "stdout",
     "output_type": "stream",
     "text": [
      "0.21976180630565245\n"
     ]
    }
   ],
   "source": [
    "print(aowi['France']['United States'])"
   ]
  },
  {
   "cell_type": "code",
   "execution_count": 74,
   "metadata": {},
   "outputs": [
    {
     "name": "stdout",
     "output_type": "stream",
     "text": [
      "0.017787650542302382\n"
     ]
    }
   ],
   "source": [
    "print(aowi['United States']['France'])"
   ]
  },
  {
   "cell_type": "code",
   "execution_count": null,
   "metadata": {},
   "outputs": [],
   "source": []
  }
 ],
 "metadata": {
  "kernelspec": {
   "display_name": "base",
   "language": "python",
   "name": "python3"
  },
  "language_info": {
   "codemirror_mode": {
    "name": "ipython",
    "version": 3
   },
   "file_extension": ".py",
   "mimetype": "text/x-python",
   "name": "python",
   "nbconvert_exporter": "python",
   "pygments_lexer": "ipython3",
   "version": "3.11.5"
  }
 },
 "nbformat": 4,
 "nbformat_minor": 2
}
