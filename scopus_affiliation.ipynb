{
 "cells": [
  {
   "cell_type": "code",
   "execution_count": 1,
   "metadata": {},
   "outputs": [],
   "source": [
    "import pandas as pd\n",
    "from pybliometrics.scopus import AffiliationRetrieval\n",
    "from tqdm import tqdm"
   ]
  },
  {
   "cell_type": "code",
   "execution_count": 2,
   "metadata": {},
   "outputs": [
    {
     "name": "stderr",
     "output_type": "stream",
     "text": [
      "/home/pkmon1d/miniconda3/lib/python3.11/site-packages/pandas/io/parsers/c_parser_wrapper.py:365: DeprecationWarning: np.find_common_type is deprecated.  Please use `np.result_type` or `np.promote_types`.\n",
      "See https://numpy.org/devdocs/release/1.25.0-notes.html and the docs for more information.  (Deprecated NumPy 1.25)\n",
      "  common_type = np.find_common_type(\n",
      "/home/pkmon1d/miniconda3/lib/python3.11/site-packages/IPython/core/interactiveshell.py:3553: DtypeWarning: Columns (2,19,21,23,24,25) have mixed types.Specify dtype option on import or set low_memory=False.\n",
      "  exec(code_obj, self.user_global_ns, self.user_ns)\n"
     ]
    }
   ],
   "source": [
    "pd.set_option('display.max_columns', None)\n",
    "data = pd.read_csv(\"./data/ai_research_papers.csv\")"
   ]
  },
  {
   "cell_type": "code",
   "execution_count": 5,
   "metadata": {},
   "outputs": [
    {
     "name": "stderr",
     "output_type": "stream",
     "text": [
      " 24%|██▍       | 13436/54844 [41:33<4:02:07,  2.85it/s]"
     ]
    }
   ],
   "source": [
    "data_exploded = data.assign(author_afids=data['author_afids'].str.split(';')).explode('author_afids')\n",
    "afids = list(data_exploded['author_afids'].unique())\n",
    "\n",
    "\n",
    "columns = ['afid', 'affiliation_name', 'org_type', 'city', 'state', 'country']\n",
    "df = pd.DataFrame(columns=columns)\n",
    "\n",
    "for afid in tqdm(afids) :\n",
    "    try :\n",
    "        aff = AffiliationRetrieval(afid)\n",
    "    except :\n",
    "        continue\n",
    "    new_row = [afid, aff.affiliation_name, aff.org_type, aff.city, aff.state, aff.country]\n",
    "    df = df.append(pd.Series(new_row, index=df.columns), ignore_index=True)\n"
   ]
  },
  {
   "cell_type": "code",
   "execution_count": null,
   "metadata": {},
   "outputs": [
    {
     "name": "stdout",
     "output_type": "stream",
     "text": [
      "UW College of Engineering in Seattle in United States,\n",
      "has 3,844 associated author(s) and 21,282 associated document(s) as of 2024-05-03\n"
     ]
    }
   ],
   "source": [
    "df.to_csv(\"./data/ai_papers_affiliations.csv\", index = False)"
   ]
  },
  {
   "cell_type": "code",
   "execution_count": null,
   "metadata": {},
   "outputs": [],
   "source": []
  }
 ],
 "metadata": {
  "kernelspec": {
   "display_name": "base",
   "language": "python",
   "name": "base"
  }
 },
 "nbformat": 4,
 "nbformat_minor": 2
}
